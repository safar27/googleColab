{
  "nbformat": 4,
  "nbformat_minor": 0,
  "metadata": {
    "colab": {
      "name": "game.ipynb",
      "provenance": []
    },
    "kernelspec": {
      "name": "python3",
      "display_name": "Python 3"
    },
    "language_info": {
      "name": "python"
    }
  },
  "cells": [
    {
      "cell_type": "code",
      "execution_count": null,
      "metadata": {
        "id": "BNllaOEck5FL"
      },
      "outputs": [],
      "source": [
        "from urllib.request import urlopen\n",
        "from bs4 import BeautifulSoup\n",
        "import requests\n",
        "import re\n",
        "filename='game.csv'\n",
        "f=open(filename,'w')\n",
        "headers='Title, Link \\n'\n",
        "f.write(headers)\n",
        "def getHTMLdocument(url):\n",
        "      \n",
        "    # request for HTML document of given url\n",
        "    response = requests.get(url)\n",
        "      \n",
        "    # response will be provided in JSON format\n",
        "    return response.text\n",
        "\n",
        "\n",
        "url_to_scrape = \"https://www.freecodecamp.org/news/12-free-coding-games-to-learn-programming-for-beginners/\"\n",
        "  \n",
        "# create document\n",
        "html_document = getHTMLdocument(url_to_scrape)\n",
        "  \n",
        "# create soup object\n",
        "soup = BeautifulSoup(html_document, 'html.parser')\n",
        "ol=soup.find('ol')  \n",
        "  \n",
        "# find all the anchor tags with \"href\" \n",
        "# attribute starting with \"https://\"\n",
        "for li in ol.find_all('li'):\n",
        "  text=li.text\n",
        "  link=\"https://www.freecodecamp.org/news/12-free-coding-games-to-learn-programming-for-beginners\"+li.a.get('href')\n",
        "  f.write(text+\",\"+link+\"\\n\")\n",
        "f.close()"
      ]
    }
  ]
}