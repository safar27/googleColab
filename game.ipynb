{
  "nbformat": 4,
  "nbformat_minor": 0,
  "metadata": {
    "colab": {
      "name": "game.ipynb",
      "provenance": [],
      "collapsed_sections": []
    },
    "kernelspec": {
      "name": "python3",
      "display_name": "Python 3"
    },
    "language_info": {
      "name": "python"
    }
  },
  "cells": [
    {
      "cell_type": "code",
      "execution_count": 25,
      "metadata": {
        "id": "Vy61ozzQI3o-"
      },
      "outputs": [],
      "source": [
        "from urllib.request import urlopen\n",
        "from bs4 import BeautifulSoup\n",
        "import requests\n",
        "import re"
      ]
    },
    {
      "cell_type": "code",
      "source": [
        "filename='game.csv'\n",
        "f=open(filename,'w')\n",
        "headers='Title, Link \\n'\n",
        "f.write(headers)"
      ],
      "metadata": {
        "colab": {
          "base_uri": "https://localhost:8080/"
        },
        "id": "PdKvgWEfJD8z",
        "outputId": "8ec12127-8d93-43df-d1ec-6c9e85546114"
      },
      "execution_count": 44,
      "outputs": [
        {
          "output_type": "execute_result",
          "data": {
            "text/plain": [
              "13"
            ]
          },
          "metadata": {},
          "execution_count": 44
        }
      ]
    },
    {
      "cell_type": "code",
      "source": [
        "def getHTMLdocument(url):\n",
        "      \n",
        "    # request for HTML document of given url\n",
        "    response = requests.get(url)\n",
        "      \n",
        "    # response will be provided in JSON format\n",
        "    return response.text\n",
        "\n",
        "\n",
        "url_to_scrape = \"https://www.freecodecamp.org/news/12-free-coding-games-to-learn-programming-for-beginners/\"\n",
        "  \n",
        "# create document\n",
        "html_document = getHTMLdocument(url_to_scrape)\n",
        "  \n",
        "# create soup object\n",
        "soup = BeautifulSoup(html_document, 'html.parser')\n",
        "ol=soup.find('ol')  \n",
        "  \n",
        "# find all the anchor tags with \"href\" \n",
        "# attribute starting with \"https://\"\n",
        "for li in ol.find_all('li'):\n",
        "  text=li.text\n",
        "  link=\"https://www.freecodecamp.org/news/12-free-coding-games-to-learn-programming-for-beginners/\"+li.a.get('href')\n",
        "  f.write(text+\",\"+link+\"\\n\")\n"
      ],
      "metadata": {
        "id": "v4dnq_MoJJxH"
      },
      "execution_count": 45,
      "outputs": []
    },
    {
      "cell_type": "code",
      "source": [
        ""
      ],
      "metadata": {
        "id": "rhda-PzmWOex"
      },
      "execution_count": 45,
      "outputs": []
    },
    {
      "cell_type": "code",
      "source": [
        "f.close()"
      ],
      "metadata": {
        "id": "YOZFrvHZMo7G"
      },
      "execution_count": 46,
      "outputs": []
    },
    {
      "cell_type": "code",
      "source": [
        "from google.colab import drive\n",
        "drive.mount('/content/drive')"
      ],
      "metadata": {
        "id": "0vAIPsMZVNdq"
      },
      "execution_count": null,
      "outputs": []
    },
    {
      "cell_type": "markdown",
      "source": [
        "# New Section"
      ],
      "metadata": {
        "id": "ReZ6RiOGXu0W"
      }
    },
    {
      "cell_type": "markdown",
      "source": [
        "# New Section"
      ],
      "metadata": {
        "id": "2qVf7k3eXvQN"
      }
    },
    {
      "cell_type": "code",
      "source": [
        ""
      ],
      "metadata": {
        "id": "SFUhk4_JKSn2"
      },
      "execution_count": null,
      "outputs": []
    },
    {
      "cell_type": "code",
      "source": [
        ""
      ],
      "metadata": {
        "id": "3T-IXZcXNCKX"
      },
      "execution_count": null,
      "outputs": []
    },
    {
      "cell_type": "markdown",
      "source": [
        "# New Section"
      ],
      "metadata": {
        "id": "qynmZHN1ORh1"
      }
    }
  ]
}